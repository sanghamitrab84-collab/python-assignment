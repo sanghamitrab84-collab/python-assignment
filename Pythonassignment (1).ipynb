{
  "nbformat": 4,
  "nbformat_minor": 0,
  "metadata": {
    "colab": {
      "provenance": []
    },
    "kernelspec": {
      "name": "python3",
      "display_name": "Python 3"
    },
    "language_info": {
      "name": "python"
    }
  },
  "cells": [
    {
      "cell_type": "markdown",
      "source": [
        "1. What is Python, and why is it popular?\n",
        "\n",
        "Python is a high-level, interpreted programming language known for its simplicity, readability, and vast libraries. It is popular because it supports multiple paradigms (OOP, functional, procedural), is beginner-friendly, and widely used in AI, data science, and web development.\n",
        "\n",
        "2. What is an interpreter in Python?\n",
        "\n",
        "The interpreter executes Python code line by line, converting it into machine-understandable instructions.\n",
        "\n",
        "3. What are pre-defined keywords in Python?\n",
        "\n",
        "Keywords are reserved words in Python that have special meaning (e.g., if, while, class, def).\n",
        "\n",
        "4. Can keywords be used as variable names?\n",
        "\n",
        "No, keywords cannot be used as variable names because they are reserved by Python syntax.\n",
        "\n",
        "5. What is mutability in Python?\n",
        "\n",
        "Mutability means whether an object’s value can be changed after creation.\n",
        "\n",
        "6. Why are lists mutable, but tuples are immutable?\n",
        "\n",
        "Lists allow modification (add, remove, update elements), while tuples are designed as fixed collections for safety and efficiency.\n",
        "\n",
        "7. What is the difference between “==” and “is” operators in Python?\n",
        "\n",
        "\n",
        "== checks value equality.\n",
        "\n",
        "is checks identity (whether two references point to the same object in memory).\n",
        "\n",
        "8. What are logical operators in Python?\n",
        "\n",
        "and, or, not — used to combine or invert conditions.\n",
        "\n",
        "9. What is type casting in Python?\n",
        "\n",
        "Type casting is converting one data type into another, e.g., int(\"5\") → 5.\n",
        "\n",
        "10. What is the difference between implicit and explicit type casting?\n",
        "\n",
        "\n",
        "Implicit: Done automatically by Python (e.g., int + float → float).\n",
        "\n",
        "Explicit: Done manually by the programmer using functions (int(), float(), etc.).\n",
        "\n",
        "11. What is the purpose of conditional statements in Python?\n",
        "\n",
        "They control the flow of execution based on conditions (e.g., if-else).\n",
        "\n",
        "12. How does the elif statement work?\n",
        "\n",
        "It checks multiple conditions sequentially; executes the first block that evaluates to True.\n",
        "\n",
        "13. What is the difference between for and while loops?\n",
        "\n",
        "\n",
        "for: Iterates over a sequence (known number of iterations).\n",
        "\n",
        "while: Repeats until a condition becomes false (unknown iterations).\n",
        "\n",
        "14. Describe a scenario where a while loop is more suitable than a for loop.\n",
        "\n",
        "When the number of iterations is not known in advance, e.g., keep asking a user for input until they type \"exit\"."
      ],
      "metadata": {
        "id": "vYN5iyb6iswk"
      }
    },
    {
      "cell_type": "markdown",
      "source": [
        "1,Write a Python program to print \"Hello, World!"
      ],
      "metadata": {
        "id": "D4EH0PGzjSMN"
      }
    },
    {
      "cell_type": "code",
      "execution_count": null,
      "metadata": {
        "colab": {
          "base_uri": "https://localhost:8080/"
        },
        "id": "cdwlAexqirkS",
        "outputId": "49944c16-cce8-4433-fbcc-f881afb28ae7"
      },
      "outputs": [
        {
          "output_type": "stream",
          "name": "stdout",
          "text": [
            "Hello, World!\n"
          ]
        }
      ],
      "source": [
        "print(\"Hello, World!\")"
      ]
    },
    {
      "cell_type": "markdown",
      "source": [
        "2.Write a Python program that displays your name and age"
      ],
      "metadata": {
        "id": "BVnE2ihhjWVL"
      }
    },
    {
      "cell_type": "code",
      "source": [
        "name = \"Suhana\"\n",
        "age = 21\n",
        "print(\"Name:\", name)\n",
        "print(\"Age:\", age)"
      ],
      "metadata": {
        "colab": {
          "base_uri": "https://localhost:8080/"
        },
        "id": "onnszmH_jW8s",
        "outputId": "522308b8-bc5c-4cbf-80a1-e6fe10641def"
      },
      "execution_count": null,
      "outputs": [
        {
          "output_type": "stream",
          "name": "stdout",
          "text": [
            "Name: Suhana\n",
            "Age: 21\n"
          ]
        }
      ]
    },
    {
      "cell_type": "markdown",
      "source": [
        "3.Write code to print all the pre-defined keywords in Python using the keyword library"
      ],
      "metadata": {
        "id": "ULt2DYmZjXaL"
      }
    },
    {
      "cell_type": "code",
      "source": [
        "import keyword\n",
        "print(keyword.kwlist)"
      ],
      "metadata": {
        "colab": {
          "base_uri": "https://localhost:8080/"
        },
        "id": "vtu1muL_jYRY",
        "outputId": "216b7d97-5be0-4c84-f0af-69b5f0649204"
      },
      "execution_count": null,
      "outputs": [
        {
          "output_type": "stream",
          "name": "stdout",
          "text": [
            "['False', 'None', 'True', 'and', 'as', 'assert', 'async', 'await', 'break', 'class', 'continue', 'def', 'del', 'elif', 'else', 'except', 'finally', 'for', 'from', 'global', 'if', 'import', 'in', 'is', 'lambda', 'nonlocal', 'not', 'or', 'pass', 'raise', 'return', 'try', 'while', 'with', 'yield']\n"
          ]
        }
      ]
    },
    {
      "cell_type": "markdown",
      "source": [
        "4.Write a program that checks if a given word is a Python keyword."
      ],
      "metadata": {
        "id": "jES-XYxdjdJD"
      }
    },
    {
      "cell_type": "code",
      "source": [
        "import keyword\n",
        "word = input(\"python: \")\n",
        "if keyword.iskeyword(python):\n",
        "    print(word, \"is a Python keyword\")\n",
        "else:\n",
        "    print(word, \"is not a Python keyword\")"
      ],
      "metadata": {
        "id": "6O6jLGmHjeOF"
      },
      "execution_count": null,
      "outputs": []
    },
    {
      "cell_type": "markdown",
      "source": [
        "5. Create a list and tuple in Python, and demonstrate how attempting to change an element works differently for each."
      ],
      "metadata": {
        "id": "4F7mWCYYjehV"
      }
    },
    {
      "cell_type": "code",
      "source": [
        "my_list = [1, 2, 3]\n",
        "my_tuple = (1, 2, 3)\n",
        "\n",
        "my_list[0] = 10   # Works\n",
        "print(\"Modified list:\", my_list)\n",
        "\n",
        "try:\n",
        "    my_tuple[0] = 10   # Error\n",
        "except TypeError as e:\n",
        "    print(\"Error with tuple:\", e)"
      ],
      "metadata": {
        "id": "yLgV7afijfML"
      },
      "execution_count": null,
      "outputs": []
    },
    {
      "cell_type": "markdown",
      "source": [
        "6. Write a function to demonstrate the behavior of mutable and immutable arguments."
      ],
      "metadata": {
        "id": "lIATI_fmjf2M"
      }
    },
    {
      "cell_type": "code",
      "source": [
        "def modify_list(lst):\n",
        "    lst.append(100)\n",
        "\n",
        "def modify_number(num):\n",
        "    num += 10\n",
        "    return num\n",
        "\n",
        "my_list = [1, 2, 3]\n",
        "modify_list(my_list)\n",
        "print(\"List after function:\", my_list)  # Changed\n",
        "\n",
        "x = 5\n",
        "y = modify_number(x)\n",
        "print(\"Original number:\", x)  # Not changed\n",
        "print(\"Returned number:\", y)"
      ],
      "metadata": {
        "id": "st6ZDvd8jgLZ"
      },
      "execution_count": null,
      "outputs": []
    },
    {
      "cell_type": "markdown",
      "source": [
        "7. Write a program that performs basic arithmetic operations on two user-input numbers."
      ],
      "metadata": {
        "id": "7_8NZHN2jgwT"
      }
    },
    {
      "cell_type": "code",
      "source": [
        "a = int(input(\"Enter first number: \"))\n",
        "b = int(input(\"Enter second number: \"))\n",
        "\n",
        "print(\"Sum:\", a + b)\n",
        "print(\"Difference:\", a - b)\n",
        "print(\"Product:\", a * b)\n",
        "print(\"Quotient:\", a / b)"
      ],
      "metadata": {
        "id": "VRZ4DmAkjhSy"
      },
      "execution_count": null,
      "outputs": []
    },
    {
      "cell_type": "markdown",
      "source": [
        "8. Write a program to demonstrate the use of logical operators."
      ],
      "metadata": {
        "id": "-XObqXjGjhnS"
      }
    },
    {
      "cell_type": "code",
      "source": [
        "x, y = True, False\n",
        "print(\"x and y:\", x and y)\n",
        "print(\"x or y:\", x or y)\n",
        "print(\"not x:\", not x)"
      ],
      "metadata": {
        "id": "bdNcgzcnjiKA"
      },
      "execution_count": null,
      "outputs": []
    },
    {
      "cell_type": "markdown",
      "source": [
        "9. Write a Python program to convert user input from string to integer, float, and boolean types."
      ],
      "metadata": {
        "id": "Wf1K5nNQjiyo"
      }
    },
    {
      "cell_type": "code",
      "source": [
        "s = input(\"Enter a value: \")\n",
        "print(\"As string:\", s)\n",
        "print(\"As integer:\", int(s))\n",
        "print(\"As float:\", float(s))\n",
        "print(\"As boolean:\", bool(s))"
      ],
      "metadata": {
        "id": "1J8zO2OpjjmE"
      },
      "execution_count": null,
      "outputs": []
    },
    {
      "cell_type": "markdown",
      "source": [
        "10. Write code to demonstrate type casting with list elements."
      ],
      "metadata": {
        "id": "qOnIXRiIjj42"
      }
    },
    {
      "cell_type": "code",
      "source": [
        "nums = [\"1\", \"2\", \"3\"]\n",
        "ints = list(map(int, nums))\n",
        "print(\"Original list:\", nums)\n",
        "print(\"After type casting:\", ints)"
      ],
      "metadata": {
        "id": "ARrVtbyTjkYU"
      },
      "execution_count": null,
      "outputs": []
    },
    {
      "cell_type": "markdown",
      "source": [
        "11. Write a program that checks if a number is positive, negative, or zero."
      ],
      "metadata": {
        "id": "0Viujeg8jkut"
      }
    },
    {
      "cell_type": "code",
      "source": [
        "n = int(input(\"Enter a number: \"))\n",
        "if n > 0:\n",
        "    print(\"Positive\")\n",
        "elif n < 0:\n",
        "    print(\"Negative\")\n",
        "else:\n",
        "    print(\"Zero\")"
      ],
      "metadata": {
        "id": "rYXHkvnKjluk"
      },
      "execution_count": null,
      "outputs": []
    },
    {
      "cell_type": "markdown",
      "source": [
        "12. Write a for loop to print numbers from 1 to 10."
      ],
      "metadata": {
        "id": "xDdeph3FjtXr"
      }
    },
    {
      "cell_type": "code",
      "source": [
        "for i in range(1, 11):\n",
        "    print(i)"
      ],
      "metadata": {
        "id": "QupPHd9jjt1K"
      },
      "execution_count": null,
      "outputs": []
    },
    {
      "cell_type": "markdown",
      "source": [
        "13. Write a Python program to find the sum of all even numbers between 1 and 50."
      ],
      "metadata": {
        "id": "2IY6b7GYju4K"
      }
    },
    {
      "cell_type": "code",
      "source": [
        "total = 0\n",
        "for i in range(2, 51, 2):\n",
        "    total += i\n",
        "print(\"Sum of even numbers:\", total)"
      ],
      "metadata": {
        "id": "UTUPyCRyjvZL"
      },
      "execution_count": null,
      "outputs": []
    },
    {
      "cell_type": "markdown",
      "source": [
        "14. Write a program to reverse a string using a while loop."
      ],
      "metadata": {
        "id": "AUAEfUvUjvvs"
      }
    },
    {
      "cell_type": "code",
      "source": [
        "s = input(\"Enter a string: \")\n",
        "rev = \"\"\n",
        "i = len(s) - 1\n",
        "while i >= 0:\n",
        "    rev += s[i]\n",
        "    i -= 1\n",
        "print(\"Reversed string:\", rev)"
      ],
      "metadata": {
        "id": "bheMVHxPjwda"
      },
      "execution_count": null,
      "outputs": []
    },
    {
      "cell_type": "markdown",
      "source": [
        "15. Write a Python program to calculate the factorial of a number provided by the user using a while loop"
      ],
      "metadata": {
        "id": "2cL3sLGNj21m"
      }
    },
    {
      "cell_type": "code",
      "source": [
        "n = int(input(\"Enter a number: \"))\n",
        "fact = 1\n",
        "while n > 0:\n",
        "    fact *= n\n",
        "    n -= 1\n",
        "print(\"Factorial:\", fact)"
      ],
      "metadata": {
        "id": "39_GirPTj3Xb"
      },
      "execution_count": null,
      "outputs": []
    }
  ]
}